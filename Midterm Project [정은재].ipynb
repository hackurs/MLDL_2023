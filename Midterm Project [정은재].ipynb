{
 "cells": [
  {
   "cell_type": "markdown",
   "id": "f65b673d",
   "metadata": {},
   "source": [
    "# Kaggle Project"
   ]
  },
  {
   "cell_type": "markdown",
   "id": "8f01a265",
   "metadata": {},
   "source": [
    "## Describe Your Dataset"
   ]
  },
  {
   "cell_type": "markdown",
   "id": "a4f2c779",
   "metadata": {},
   "source": [
    "**URL:** https://www.kaggle.com/datasets/andrewmvd/heart-failure-clinical-data"
   ]
  },
  {
   "attachments": {},
   "cell_type": "markdown",
   "id": "2ee95bd2",
   "metadata": {},
   "source": [
    "**Task:**\n",
    "\n",
    "Binary classification\n",
    "\n",
    "**Abstract:**\n",
    "\n",
    "심혈관질환(CVD)은 전 세계적으로 사망률 1위인 질병으로, 매년 약 1790만 명이 사망하는데, 이는 전체 사망자의 31%를 차지한다. 심부전은 CVD에 의해 야기되는 일반적인 사건이며 이 데이터 집합에는 심부전에 의한 사망률을 예측하는 데 사용할 수 있는 12가지 Feature가 포함되어 있다. 본 프로젝트에서는 총 다섯 가지의 모델을 사용하여 사망 여부를 예측하고, 어떠한 요인이 큰 영향을 끼치는지 조기 발견을 하여 질병을 사전에 관리 또는 예방할 수 있도록 하는 것이 목표이다."
   ]
  },
  {
   "cell_type": "markdown",
   "id": "925b65df",
   "metadata": {},
   "source": [
    "**Datasets** \n",
    "\n",
    "총 데이터 수: 299개\n",
    "\n",
    "Train:Val:Test= 8:2:2\n",
    "\n",
    "* Train dataset: 179개\n",
    "\n",
    "* Validation dataset: 60개\n",
    "\n",
    "* Test dataset: 60개"
   ]
  },
  {
   "attachments": {},
   "cell_type": "markdown",
   "id": "efd627a2",
   "metadata": {},
   "source": [
    "**Features(x):** \n",
    "\n",
    "(총 12개)\n",
    "\n",
    "age: 환자의 나이 (years)\n",
    "\n",
    "anaemia(빈혈): 적혈구나 헤모글로빈의 감소 상태 (boolean)\n",
    "\n",
    "high blood pressure(고혈압): 고혈압 유무 (boolean)\n",
    "\n",
    "creatinine phosphokinase (CPK, 크레아티닌 인산화효소): 혈중 CPK 효소 수치 (mcg/L)\n",
    "\n",
    "diabetes(당뇨): 당뇨 여부 (boolean)\n",
    "\n",
    "ejection fraction(박출률): 심장의 펌프 기능을 나타내는 지표 (percentage)\n",
    "\n",
    "platelets(혈소판): 혈중 혈소판량 (kiloplatelets/mL)\n",
    "\n",
    "sex(성별): 여자/남자 (binary)\n",
    "\n",
    "serum creatinine(혈청 크레아티닌): 혈중 혈청 크레아티닌 수치 (mg/dL)\n",
    "\n",
    "serum sodium(나트륨-혈청): 혈중 혈청 나트륨 수치 (mEq/L)\n",
    "\n",
    "smoking(흡연): 흡연 여부 (boolean)\n",
    "\n",
    "time: 사후관리(follow-up) 기간 (days)"
   ]
  },
  {
   "attachments": {},
   "cell_type": "markdown",
   "id": "07cad80b",
   "metadata": {},
   "source": [
    "**Target(y):**\n",
    "\n",
    "death event: 환자가 follow-up 기간 중 사망한 경우 (boolean)"
   ]
  },
  {
   "cell_type": "markdown",
   "id": "f6df73f8",
   "metadata": {},
   "source": [
    "---"
   ]
  },
  {
   "cell_type": "markdown",
   "id": "a3ccb4a7",
   "metadata": {},
   "source": [
    "## Build Your Model"
   ]
  },
  {
   "cell_type": "markdown",
   "id": "575c8d37",
   "metadata": {},
   "source": [
    "### Data preprocessing"
   ]
  },
  {
   "cell_type": "code",
   "execution_count": 142,
   "id": "bde79b32",
   "metadata": {},
   "outputs": [],
   "source": [
    "import numpy as np\n",
    "import pandas as pd\n",
    "import warnings\n",
    "\n",
    "# Data Visualization\n",
    "import matplotlib.pyplot as plt\n",
    "import seaborn as sns\n",
    "from sklearn.preprocessing import  StandardScaler\n",
    "\n",
    "# Model Selection\n",
    "from sklearn.model_selection import train_test_split, cross_val_score, GridSearchCV\n",
    "from sklearn.metrics import confusion_matrix\n",
    "\n",
    "# Model Libraries\n",
    "from sklearn.linear_model import LogisticRegression\n",
    "from sklearn.neighbors import KNeighborsClassifier\n",
    "from sklearn.svm import SVC\n",
    "from sklearn.tree import DecisionTreeClassifier\n",
    "from sklearn.ensemble import RandomForestClassifier\n",
    "from sklearn.metrics import accuracy_score\n",
    "from sklearn import tree\n",
    "from sklearn.model_selection import GridSearchCV"
   ]
  },
  {
   "cell_type": "code",
   "execution_count": 143,
   "id": "2a56da55",
   "metadata": {},
   "outputs": [],
   "source": [
    "warnings.filterwarnings(action='ignore')"
   ]
  },
  {
   "cell_type": "code",
   "execution_count": 144,
   "id": "2bee324e",
   "metadata": {},
   "outputs": [
    {
     "data": {
      "text/html": [
       "<div>\n",
       "<style scoped>\n",
       "    .dataframe tbody tr th:only-of-type {\n",
       "        vertical-align: middle;\n",
       "    }\n",
       "\n",
       "    .dataframe tbody tr th {\n",
       "        vertical-align: top;\n",
       "    }\n",
       "\n",
       "    .dataframe thead th {\n",
       "        text-align: right;\n",
       "    }\n",
       "</style>\n",
       "<table border=\"1\" class=\"dataframe\">\n",
       "  <thead>\n",
       "    <tr style=\"text-align: right;\">\n",
       "      <th></th>\n",
       "      <th>age</th>\n",
       "      <th>anaemia</th>\n",
       "      <th>creatinine_phosphokinase</th>\n",
       "      <th>diabetes</th>\n",
       "      <th>ejection_fraction</th>\n",
       "      <th>high_blood_pressure</th>\n",
       "      <th>platelets</th>\n",
       "      <th>serum_creatinine</th>\n",
       "      <th>serum_sodium</th>\n",
       "      <th>sex</th>\n",
       "      <th>smoking</th>\n",
       "      <th>time</th>\n",
       "      <th>DEATH_EVENT</th>\n",
       "    </tr>\n",
       "  </thead>\n",
       "  <tbody>\n",
       "    <tr>\n",
       "      <th>0</th>\n",
       "      <td>75.0</td>\n",
       "      <td>0</td>\n",
       "      <td>582</td>\n",
       "      <td>0</td>\n",
       "      <td>20</td>\n",
       "      <td>1</td>\n",
       "      <td>265000.00</td>\n",
       "      <td>1.9</td>\n",
       "      <td>130</td>\n",
       "      <td>1</td>\n",
       "      <td>0</td>\n",
       "      <td>4</td>\n",
       "      <td>1</td>\n",
       "    </tr>\n",
       "    <tr>\n",
       "      <th>1</th>\n",
       "      <td>55.0</td>\n",
       "      <td>0</td>\n",
       "      <td>7861</td>\n",
       "      <td>0</td>\n",
       "      <td>38</td>\n",
       "      <td>0</td>\n",
       "      <td>263358.03</td>\n",
       "      <td>1.1</td>\n",
       "      <td>136</td>\n",
       "      <td>1</td>\n",
       "      <td>0</td>\n",
       "      <td>6</td>\n",
       "      <td>1</td>\n",
       "    </tr>\n",
       "    <tr>\n",
       "      <th>2</th>\n",
       "      <td>65.0</td>\n",
       "      <td>0</td>\n",
       "      <td>146</td>\n",
       "      <td>0</td>\n",
       "      <td>20</td>\n",
       "      <td>0</td>\n",
       "      <td>162000.00</td>\n",
       "      <td>1.3</td>\n",
       "      <td>129</td>\n",
       "      <td>1</td>\n",
       "      <td>1</td>\n",
       "      <td>7</td>\n",
       "      <td>1</td>\n",
       "    </tr>\n",
       "    <tr>\n",
       "      <th>3</th>\n",
       "      <td>50.0</td>\n",
       "      <td>1</td>\n",
       "      <td>111</td>\n",
       "      <td>0</td>\n",
       "      <td>20</td>\n",
       "      <td>0</td>\n",
       "      <td>210000.00</td>\n",
       "      <td>1.9</td>\n",
       "      <td>137</td>\n",
       "      <td>1</td>\n",
       "      <td>0</td>\n",
       "      <td>7</td>\n",
       "      <td>1</td>\n",
       "    </tr>\n",
       "    <tr>\n",
       "      <th>4</th>\n",
       "      <td>65.0</td>\n",
       "      <td>1</td>\n",
       "      <td>160</td>\n",
       "      <td>1</td>\n",
       "      <td>20</td>\n",
       "      <td>0</td>\n",
       "      <td>327000.00</td>\n",
       "      <td>2.7</td>\n",
       "      <td>116</td>\n",
       "      <td>0</td>\n",
       "      <td>0</td>\n",
       "      <td>8</td>\n",
       "      <td>1</td>\n",
       "    </tr>\n",
       "  </tbody>\n",
       "</table>\n",
       "</div>"
      ],
      "text/plain": [
       "    age  anaemia  creatinine_phosphokinase  diabetes  ejection_fraction  \\\n",
       "0  75.0        0                       582         0                 20   \n",
       "1  55.0        0                      7861         0                 38   \n",
       "2  65.0        0                       146         0                 20   \n",
       "3  50.0        1                       111         0                 20   \n",
       "4  65.0        1                       160         1                 20   \n",
       "\n",
       "   high_blood_pressure  platelets  serum_creatinine  serum_sodium  sex  \\\n",
       "0                    1  265000.00               1.9           130    1   \n",
       "1                    0  263358.03               1.1           136    1   \n",
       "2                    0  162000.00               1.3           129    1   \n",
       "3                    0  210000.00               1.9           137    1   \n",
       "4                    0  327000.00               2.7           116    0   \n",
       "\n",
       "   smoking  time  DEATH_EVENT  \n",
       "0        0     4            1  \n",
       "1        0     6            1  \n",
       "2        1     7            1  \n",
       "3        0     7            1  \n",
       "4        0     8            1  "
      ]
     },
     "execution_count": 144,
     "metadata": {},
     "output_type": "execute_result"
    }
   ],
   "source": [
    "#데이터셋 불러오기\n",
    "data = pd.read_csv(\"./heart_failure_clinical_records_dataset.csv\")\n",
    "data.head()"
   ]
  },
  {
   "cell_type": "code",
   "execution_count": 145,
   "id": "73c4cf8e",
   "metadata": {},
   "outputs": [
    {
     "data": {
      "text/plain": [
       "(299, 13)"
      ]
     },
     "execution_count": 145,
     "metadata": {},
     "output_type": "execute_result"
    }
   ],
   "source": [
    "data.shape"
   ]
  },
  {
   "cell_type": "code",
   "execution_count": 146,
   "id": "e77474b1",
   "metadata": {},
   "outputs": [
    {
     "name": "stdout",
     "output_type": "stream",
     "text": [
      "<class 'pandas.core.frame.DataFrame'>\n",
      "RangeIndex: 299 entries, 0 to 298\n",
      "Data columns (total 13 columns):\n",
      " #   Column                    Non-Null Count  Dtype  \n",
      "---  ------                    --------------  -----  \n",
      " 0   age                       299 non-null    float64\n",
      " 1   anaemia                   299 non-null    int64  \n",
      " 2   creatinine_phosphokinase  299 non-null    int64  \n",
      " 3   diabetes                  299 non-null    int64  \n",
      " 4   ejection_fraction         299 non-null    int64  \n",
      " 5   high_blood_pressure       299 non-null    int64  \n",
      " 6   platelets                 299 non-null    float64\n",
      " 7   serum_creatinine          299 non-null    float64\n",
      " 8   serum_sodium              299 non-null    int64  \n",
      " 9   sex                       299 non-null    int64  \n",
      " 10  smoking                   299 non-null    int64  \n",
      " 11  time                      299 non-null    int64  \n",
      " 12  DEATH_EVENT               299 non-null    int64  \n",
      "dtypes: float64(3), int64(10)\n",
      "memory usage: 30.5 KB\n"
     ]
    }
   ],
   "source": [
    "data.info()"
   ]
  },
  {
   "cell_type": "code",
   "execution_count": 147,
   "id": "2275f042",
   "metadata": {},
   "outputs": [
    {
     "data": {
      "text/plain": [
       "0    203\n",
       "1     96\n",
       "Name: DEATH_EVENT, dtype: int64"
      ]
     },
     "execution_count": 147,
     "metadata": {},
     "output_type": "execute_result"
    }
   ],
   "source": [
    "#target variable 개수 세기\n",
    "data[\"DEATH_EVENT\"].value_counts()"
   ]
  },
  {
   "cell_type": "code",
   "execution_count": 148,
   "id": "0d24cb71",
   "metadata": {},
   "outputs": [
    {
     "data": {
      "image/png": "[encoded data removed]",
      "text/plain": [
       "<Figure size 640x480 with 1 Axes>"
      ]
     },
     "metadata": {},
     "output_type": "display_data"
    }
   ],
   "source": [
    "#Class Imbalance (class 0: 68%, class 1: 32%)\n",
    "data[\"DEATH_EVENT\"].value_counts().plot(kind=\"bar\")\n",
    "plt.title(\"Class Distribution\");"
   ]
  },
  {
   "attachments": {},
   "cell_type": "markdown",
   "id": "313e2be4",
   "metadata": {},
   "source": [
    "Data Scaling\n",
    "\n",
    "* 각 feature간의 값의 범위가 차이가 있기 때문에 하나의 기준을 따를 수 있도록 스케일링 시행\n",
    "\n",
    "* 평균을 제거(평균: 0)하고 데이터를 단위 분산(분산: 1)으로 조정해 주는 StandardScaler 사용"
   ]
  },
  {
   "cell_type": "code",
   "execution_count": 149,
   "id": "2267ac06",
   "metadata": {},
   "outputs": [
    {
     "data": {
      "text/html": [
       "<div>\n",
       "<style scoped>\n",
       "    .dataframe tbody tr th:only-of-type {\n",
       "        vertical-align: middle;\n",
       "    }\n",
       "\n",
       "    .dataframe tbody tr th {\n",
       "        vertical-align: top;\n",
       "    }\n",
       "\n",
       "    .dataframe thead th {\n",
       "        text-align: right;\n",
       "    }\n",
       "</style>\n",
       "<table border=\"1\" class=\"dataframe\">\n",
       "  <thead>\n",
       "    <tr style=\"text-align: right;\">\n",
       "      <th></th>\n",
       "      <th>age</th>\n",
       "      <th>anaemia</th>\n",
       "      <th>creatinine_phosphokinase</th>\n",
       "      <th>diabetes</th>\n",
       "      <th>ejection_fraction</th>\n",
       "      <th>high_blood_pressure</th>\n",
       "      <th>platelets</th>\n",
       "      <th>serum_creatinine</th>\n",
       "      <th>serum_sodium</th>\n",
       "      <th>sex</th>\n",
       "      <th>smoking</th>\n",
       "      <th>time</th>\n",
       "    </tr>\n",
       "  </thead>\n",
       "  <tbody>\n",
       "    <tr>\n",
       "      <th>0</th>\n",
       "      <td>1.192945</td>\n",
       "      <td>-0.871105</td>\n",
       "      <td>0.000166</td>\n",
       "      <td>-0.847579</td>\n",
       "      <td>-1.530560</td>\n",
       "      <td>1.359272</td>\n",
       "      <td>1.681648e-02</td>\n",
       "      <td>0.490057</td>\n",
       "      <td>-1.504036</td>\n",
       "      <td>0.735688</td>\n",
       "      <td>-0.687682</td>\n",
       "      <td>-1.629502</td>\n",
       "    </tr>\n",
       "    <tr>\n",
       "      <th>1</th>\n",
       "      <td>-0.491279</td>\n",
       "      <td>-0.871105</td>\n",
       "      <td>7.514640</td>\n",
       "      <td>-0.847579</td>\n",
       "      <td>-0.007077</td>\n",
       "      <td>-0.735688</td>\n",
       "      <td>7.535660e-09</td>\n",
       "      <td>-0.284552</td>\n",
       "      <td>-0.141976</td>\n",
       "      <td>0.735688</td>\n",
       "      <td>-0.687682</td>\n",
       "      <td>-1.603691</td>\n",
       "    </tr>\n",
       "    <tr>\n",
       "      <th>2</th>\n",
       "      <td>0.350833</td>\n",
       "      <td>-0.871105</td>\n",
       "      <td>-0.449939</td>\n",
       "      <td>-0.847579</td>\n",
       "      <td>-1.530560</td>\n",
       "      <td>-0.735688</td>\n",
       "      <td>-1.038073e+00</td>\n",
       "      <td>-0.090900</td>\n",
       "      <td>-1.731046</td>\n",
       "      <td>0.735688</td>\n",
       "      <td>1.454161</td>\n",
       "      <td>-1.590785</td>\n",
       "    </tr>\n",
       "    <tr>\n",
       "      <th>3</th>\n",
       "      <td>-0.912335</td>\n",
       "      <td>1.147968</td>\n",
       "      <td>-0.486071</td>\n",
       "      <td>-0.847579</td>\n",
       "      <td>-1.530560</td>\n",
       "      <td>-0.735688</td>\n",
       "      <td>-5.464741e-01</td>\n",
       "      <td>0.490057</td>\n",
       "      <td>0.085034</td>\n",
       "      <td>0.735688</td>\n",
       "      <td>-0.687682</td>\n",
       "      <td>-1.590785</td>\n",
       "    </tr>\n",
       "    <tr>\n",
       "      <th>4</th>\n",
       "      <td>0.350833</td>\n",
       "      <td>1.147968</td>\n",
       "      <td>-0.435486</td>\n",
       "      <td>1.179830</td>\n",
       "      <td>-1.530560</td>\n",
       "      <td>-0.735688</td>\n",
       "      <td>6.517986e-01</td>\n",
       "      <td>1.264666</td>\n",
       "      <td>-4.682176</td>\n",
       "      <td>-1.359272</td>\n",
       "      <td>-0.687682</td>\n",
       "      <td>-1.577879</td>\n",
       "    </tr>\n",
       "    <tr>\n",
       "      <th>...</th>\n",
       "      <td>...</td>\n",
       "      <td>...</td>\n",
       "      <td>...</td>\n",
       "      <td>...</td>\n",
       "      <td>...</td>\n",
       "      <td>...</td>\n",
       "      <td>...</td>\n",
       "      <td>...</td>\n",
       "      <td>...</td>\n",
       "      <td>...</td>\n",
       "      <td>...</td>\n",
       "      <td>...</td>\n",
       "    </tr>\n",
       "    <tr>\n",
       "      <th>294</th>\n",
       "      <td>0.098199</td>\n",
       "      <td>-0.871105</td>\n",
       "      <td>-0.537688</td>\n",
       "      <td>1.179830</td>\n",
       "      <td>-0.007077</td>\n",
       "      <td>1.359272</td>\n",
       "      <td>-1.109765e+00</td>\n",
       "      <td>-0.284552</td>\n",
       "      <td>1.447094</td>\n",
       "      <td>0.735688</td>\n",
       "      <td>1.454161</td>\n",
       "      <td>1.803451</td>\n",
       "    </tr>\n",
       "    <tr>\n",
       "      <th>295</th>\n",
       "      <td>-0.491279</td>\n",
       "      <td>-0.871105</td>\n",
       "      <td>1.278215</td>\n",
       "      <td>-0.847579</td>\n",
       "      <td>-0.007077</td>\n",
       "      <td>-0.735688</td>\n",
       "      <td>6.802472e-02</td>\n",
       "      <td>-0.187726</td>\n",
       "      <td>0.539054</td>\n",
       "      <td>-1.359272</td>\n",
       "      <td>-0.687682</td>\n",
       "      <td>1.816357</td>\n",
       "    </tr>\n",
       "    <tr>\n",
       "      <th>296</th>\n",
       "      <td>-1.333392</td>\n",
       "      <td>-0.871105</td>\n",
       "      <td>1.525979</td>\n",
       "      <td>1.179830</td>\n",
       "      <td>1.854958</td>\n",
       "      <td>-0.735688</td>\n",
       "      <td>4.902082e+00</td>\n",
       "      <td>-0.575031</td>\n",
       "      <td>0.312044</td>\n",
       "      <td>-1.359272</td>\n",
       "      <td>-0.687682</td>\n",
       "      <td>1.906697</td>\n",
       "    </tr>\n",
       "    <tr>\n",
       "      <th>297</th>\n",
       "      <td>-1.333392</td>\n",
       "      <td>-0.871105</td>\n",
       "      <td>1.890398</td>\n",
       "      <td>-0.847579</td>\n",
       "      <td>-0.007077</td>\n",
       "      <td>-0.735688</td>\n",
       "      <td>-1.263389e+00</td>\n",
       "      <td>0.005926</td>\n",
       "      <td>0.766064</td>\n",
       "      <td>0.735688</td>\n",
       "      <td>1.454161</td>\n",
       "      <td>1.932509</td>\n",
       "    </tr>\n",
       "    <tr>\n",
       "      <th>298</th>\n",
       "      <td>-0.912335</td>\n",
       "      <td>-0.871105</td>\n",
       "      <td>-0.398321</td>\n",
       "      <td>-0.847579</td>\n",
       "      <td>0.585389</td>\n",
       "      <td>-0.735688</td>\n",
       "      <td>1.348231e+00</td>\n",
       "      <td>0.199578</td>\n",
       "      <td>-0.141976</td>\n",
       "      <td>0.735688</td>\n",
       "      <td>1.454161</td>\n",
       "      <td>1.997038</td>\n",
       "    </tr>\n",
       "  </tbody>\n",
       "</table>\n",
       "<p>299 rows × 12 columns</p>\n",
       "</div>"
      ],
      "text/plain": [
       "          age   anaemia  creatinine_phosphokinase  diabetes  \\\n",
       "0    1.192945 -0.871105                  0.000166 -0.847579   \n",
       "1   -0.491279 -0.871105                  7.514640 -0.847579   \n",
       "2    0.350833 -0.871105                 -0.449939 -0.847579   \n",
       "3   -0.912335  1.147968                 -0.486071 -0.847579   \n",
       "4    0.350833  1.147968                 -0.435486  1.179830   \n",
       "..        ...       ...                       ...       ...   \n",
       "294  0.098199 -0.871105                 -0.537688  1.179830   \n",
       "295 -0.491279 -0.871105                  1.278215 -0.847579   \n",
       "296 -1.333392 -0.871105                  1.525979  1.179830   \n",
       "297 -1.333392 -0.871105                  1.890398 -0.847579   \n",
       "298 -0.912335 -0.871105                 -0.398321 -0.847579   \n",
       "\n",
       "     ejection_fraction  high_blood_pressure     platelets  serum_creatinine  \\\n",
       "0            -1.530560             1.359272  1.681648e-02          0.490057   \n",
       "1            -0.007077            -0.735688  7.535660e-09         -0.284552   \n",
       "2            -1.530560            -0.735688 -1.038073e+00         -0.090900   \n",
       "3            -1.530560            -0.735688 -5.464741e-01          0.490057   \n",
       "4            -1.530560            -0.735688  6.517986e-01          1.264666   \n",
       "..                 ...                  ...           ...               ...   \n",
       "294          -0.007077             1.359272 -1.109765e+00         -0.284552   \n",
       "295          -0.007077            -0.735688  6.802472e-02         -0.187726   \n",
       "296           1.854958            -0.735688  4.902082e+00         -0.575031   \n",
       "297          -0.007077            -0.735688 -1.263389e+00          0.005926   \n",
       "298           0.585389            -0.735688  1.348231e+00          0.199578   \n",
       "\n",
       "     serum_sodium       sex   smoking      time  \n",
       "0       -1.504036  0.735688 -0.687682 -1.629502  \n",
       "1       -0.141976  0.735688 -0.687682 -1.603691  \n",
       "2       -1.731046  0.735688  1.454161 -1.590785  \n",
       "3        0.085034  0.735688 -0.687682 -1.590785  \n",
       "4       -4.682176 -1.359272 -0.687682 -1.577879  \n",
       "..            ...       ...       ...       ...  \n",
       "294      1.447094  0.735688  1.454161  1.803451  \n",
       "295      0.539054 -1.359272 -0.687682  1.816357  \n",
       "296      0.312044 -1.359272 -0.687682  1.906697  \n",
       "297      0.766064  0.735688  1.454161  1.932509  \n",
       "298     -0.141976  0.735688  1.454161  1.997038  \n",
       "\n",
       "[299 rows x 12 columns]"
      ]
     },
     "execution_count": 149,
     "metadata": {},
     "output_type": "execute_result"
    }
   ],
   "source": [
    "x = data.drop(['DEATH_EVENT'], axis = 1)\n",
    "y = data['DEATH_EVENT']\n",
    "scaler = StandardScaler()\n",
    "X = scaler.fit_transform(x)\n",
    "\n",
    "df = pd.DataFrame(X, columns = x.columns.values.tolist())\n",
    "df"
   ]
  },
  {
   "cell_type": "markdown",
   "id": "d779372a",
   "metadata": {},
   "source": [
    "Data Split\n",
    "* Train:Val:Test = 8:2:2"
   ]
  },
  {
   "cell_type": "code",
   "execution_count": 150,
   "id": "3a7c0941",
   "metadata": {},
   "outputs": [],
   "source": [
    "X_tr, X_te, y_tr, y_te = train_test_split(X, y, test_size=0.2, random_state=20)\n",
    "X_tr, X_val, y_tr, y_val = train_test_split(X_tr, y_tr, test_size=0.25, random_state=20)"
   ]
  },
  {
   "cell_type": "markdown",
   "id": "37a5ee14",
   "metadata": {},
   "source": [
    "### Model Construction\n",
    "\n",
    "* 각 모델별 하이퍼 파라미터 튜닝을 위해 GridSearchCV 사용\n",
    "* GridSearchCV: Cross-Validation을 기반으로 하이퍼 파라미터를 순차적으로 측정하며, 가장 좋은 파라미터를 알려 줌"
   ]
  },
  {
   "cell_type": "markdown",
   "id": "93bf4709",
   "metadata": {},
   "source": [
    "Logistic Regression"
   ]
  },
  {
   "cell_type": "code",
   "execution_count": 151,
   "id": "a7719744",
   "metadata": {},
   "outputs": [],
   "source": [
    "model_lr = LogisticRegression()"
   ]
  },
  {
   "cell_type": "markdown",
   "id": "c650fdc2",
   "metadata": {},
   "source": [
    "Decision Tree"
   ]
  },
  {
   "cell_type": "code",
   "execution_count": 152,
   "id": "0daf8fff",
   "metadata": {},
   "outputs": [],
   "source": [
    "model_dt = DecisionTreeClassifier()\n",
    "\n",
    "grid = {'min_samples_split': [5, 10, 20, 50, 100],\n",
    "       'max_depth': [5, 10, 15, 20]}\n",
    "\n",
    "model_dt = GridSearchCV(model_dt, grid, cv=5)"
   ]
  },
  {
   "cell_type": "markdown",
   "id": "cea00085",
   "metadata": {},
   "source": [
    "SVC"
   ]
  },
  {
   "cell_type": "code",
   "execution_count": 153,
   "id": "84a017d3",
   "metadata": {},
   "outputs": [],
   "source": [
    "model_svc = SVC()\n",
    "\n",
    "grid = {'kernel': ['linear','rbf','poly']}\n",
    "\n",
    "model_svc = GridSearchCV(model_svc, grid, cv=5)"
   ]
  },
  {
   "cell_type": "markdown",
   "id": "1ea4bc58",
   "metadata": {},
   "source": [
    "kNN"
   ]
  },
  {
   "cell_type": "code",
   "execution_count": 154,
   "id": "6f8665b9",
   "metadata": {},
   "outputs": [],
   "source": [
    "model_knn = KNeighborsClassifier() \n",
    "\n",
    "grid = {\"n_neighbors\":np.arange(1,30)}\n",
    "\n",
    "model_knn = GridSearchCV(model_knn, grid, cv=5)"
   ]
  },
  {
   "cell_type": "markdown",
   "id": "f5b0bee0",
   "metadata": {},
   "source": [
    "Random Forest"
   ]
  },
  {
   "cell_type": "code",
   "execution_count": 155,
   "id": "73cfd766",
   "metadata": {},
   "outputs": [],
   "source": [
    "model_rf = RandomForestClassifier()\n",
    "\n",
    "grid = {'n_estimators':[100,200,300,400,500], 'max_depth': [2, 5, 10]}\n",
    "\n",
    "model_rf = GridSearchCV(model_rf, grid, cv=5)"
   ]
  },
  {
   "cell_type": "markdown",
   "id": "e814c018",
   "metadata": {},
   "source": [
    "### Train Model & Select Model"
   ]
  },
  {
   "cell_type": "code",
   "execution_count": 156,
   "id": "0b48d6ce",
   "metadata": {},
   "outputs": [],
   "source": [
    "def accuracy(pre, y):\n",
    "    return sum(pre==y)/len(y)"
   ]
  },
  {
   "cell_type": "markdown",
   "id": "ebdf653c",
   "metadata": {},
   "source": [
    "Logistic regression"
   ]
  },
  {
   "cell_type": "code",
   "execution_count": 157,
   "id": "7d33b9a6",
   "metadata": {},
   "outputs": [
    {
     "name": "stdout",
     "output_type": "stream",
     "text": [
      "Training Accuracy :  0.8547486033519553\n",
      "Validation Accuracy :  0.8666666666666667\n"
     ]
    }
   ],
   "source": [
    "model_lr.fit(X_tr, y_tr)\n",
    "\n",
    "tr_pred_lr = model_lr.predict(X_tr)\n",
    "val_pred_lr = model_lr.predict(X_val)\n",
    "\n",
    "tr_acc_lr = accuracy_score(tr_pred_lr, y_tr)\n",
    "val_acc_lr = accuracy_score(val_pred_lr, y_val)\n",
    "\n",
    "print('Training Accuracy : ', tr_acc_lr)\n",
    "print('Validation Accuracy : ', val_acc_lr)"
   ]
  },
  {
   "cell_type": "markdown",
   "id": "28c5f9d5",
   "metadata": {},
   "source": [
    "Decision Tree"
   ]
  },
  {
   "cell_type": "code",
   "execution_count": 158,
   "id": "b3c6612c",
   "metadata": {},
   "outputs": [
    {
     "name": "stdout",
     "output_type": "stream",
     "text": [
      "Training Accuracy :  0.8547486033519553\n",
      "Validation Accuracy :  0.8333333333333334\n"
     ]
    }
   ],
   "source": [
    "model_dt.fit(X_tr, y_tr)\n",
    "\n",
    "tr_pred_dt = model_dt.predict(X_tr)\n",
    "val_pred_dt = model_dt.predict(X_val)\n",
    "\n",
    "tr_acc_dt = accuracy_score(tr_pred_dt, y_tr)\n",
    "val_acc_dt = accuracy_score(val_pred_dt, y_val)\n",
    "\n",
    "print('Training Accuracy : ', tr_acc_dt)\n",
    "print('Validation Accuracy : ', val_acc_dt)"
   ]
  },
  {
   "cell_type": "code",
   "execution_count": 159,
   "id": "65c0b8ec",
   "metadata": {},
   "outputs": [
    {
     "data": {
      "text/plain": [
       "{'max_depth': 5, 'min_samples_split': 50}"
      ]
     },
     "execution_count": 159,
     "metadata": {},
     "output_type": "execute_result"
    }
   ],
   "source": [
    "model_dt.best_params_"
   ]
  },
  {
   "cell_type": "markdown",
   "id": "e74090a2",
   "metadata": {},
   "source": [
    "SVC"
   ]
  },
  {
   "cell_type": "code",
   "execution_count": 160,
   "id": "e3d1621f",
   "metadata": {},
   "outputs": [
    {
     "name": "stdout",
     "output_type": "stream",
     "text": [
      "Training Accuracy :  0.9106145251396648\n",
      "Validation Accuracy :  0.8666666666666667\n"
     ]
    }
   ],
   "source": [
    "model_svc.fit(X_tr, y_tr)\n",
    "\n",
    "tr_pred_svc = model_svc.predict(X_tr)\n",
    "val_pred_svc = model_svc.predict(X_val)\n",
    "\n",
    "tr_acc_svc = accuracy_score(tr_pred_svc, y_tr)\n",
    "val_acc_svc = accuracy_score(val_pred_svc, y_val)\n",
    "\n",
    "print('Training Accuracy : ', tr_acc_svc)\n",
    "print('Validation Accuracy : ', val_acc_svc)"
   ]
  },
  {
   "cell_type": "code",
   "execution_count": 161,
   "id": "ff3a1ec6",
   "metadata": {},
   "outputs": [
    {
     "data": {
      "text/plain": [
       "{'kernel': 'rbf'}"
      ]
     },
     "execution_count": 161,
     "metadata": {},
     "output_type": "execute_result"
    }
   ],
   "source": [
    "model_svc.best_params_"
   ]
  },
  {
   "cell_type": "markdown",
   "id": "b8582961",
   "metadata": {},
   "source": [
    "kNN"
   ]
  },
  {
   "cell_type": "code",
   "execution_count": 162,
   "id": "5effb22c",
   "metadata": {},
   "outputs": [
    {
     "name": "stdout",
     "output_type": "stream",
     "text": [
      "Training Accuracy :  0.7877094972067039\n",
      "Validation Accuracy :  0.7166666666666667\n"
     ]
    }
   ],
   "source": [
    "model_knn.fit(X_tr, y_tr)\n",
    "\n",
    "tr_pred_knn = model_knn.predict(X_tr)\n",
    "val_pred_knn = model_knn.predict(X_val)\n",
    "\n",
    "tr_acc_knn = accuracy_score(tr_pred_knn, y_tr)\n",
    "val_acc_knn = accuracy_score(val_pred_knn, y_val)\n",
    "\n",
    "print('Training Accuracy : ', tr_acc_knn)\n",
    "print('Validation Accuracy : ', val_acc_knn)"
   ]
  },
  {
   "cell_type": "code",
   "execution_count": 163,
   "id": "a7341db3",
   "metadata": {},
   "outputs": [
    {
     "data": {
      "text/plain": [
       "{'n_neighbors': 9}"
      ]
     },
     "execution_count": 163,
     "metadata": {},
     "output_type": "execute_result"
    }
   ],
   "source": [
    "model_knn.best_params_"
   ]
  },
  {
   "cell_type": "markdown",
   "id": "c57dcdd0",
   "metadata": {},
   "source": [
    "Random Forest"
   ]
  },
  {
   "cell_type": "code",
   "execution_count": 164,
   "id": "39567870",
   "metadata": {},
   "outputs": [
    {
     "name": "stdout",
     "output_type": "stream",
     "text": [
      "Training Accuracy :  1.0\n",
      "Validation Accuracy :  0.8833333333333333\n"
     ]
    }
   ],
   "source": [
    "model_rf.fit(X_tr, y_tr)\n",
    "\n",
    "tr_pred_rf = model_rf.predict(X_tr)\n",
    "val_pred_rf = model_rf.predict(X_val)\n",
    "\n",
    "tr_acc_rf = accuracy_score(tr_pred_rf, y_tr)\n",
    "val_acc_rf = accuracy_score(val_pred_rf, y_val)\n",
    "\n",
    "print('Training Accuracy : ', tr_acc_rf)\n",
    "print('Validation Accuracy : ', val_acc_rf)"
   ]
  },
  {
   "cell_type": "code",
   "execution_count": 165,
   "id": "02f2b000",
   "metadata": {},
   "outputs": [
    {
     "data": {
      "text/plain": [
       "{'max_depth': 10, 'n_estimators': 400}"
      ]
     },
     "execution_count": 165,
     "metadata": {},
     "output_type": "execute_result"
    }
   ],
   "source": [
    "model_rf.best_params_"
   ]
  },
  {
   "cell_type": "code",
   "execution_count": 166,
   "id": "e41cc0e5",
   "metadata": {},
   "outputs": [
    {
     "data": {
      "text/html": [
       "<style type=\"text/css\">\n",
       "#T_ebffb_row3_col0, #T_ebffb_row3_col1 {\n",
       "  background-color: yellow;\n",
       "}\n",
       "</style>\n",
       "<table id=\"T_ebffb\">\n",
       "  <thead>\n",
       "    <tr>\n",
       "      <th class=\"blank level0\" >&nbsp;</th>\n",
       "      <th id=\"T_ebffb_level0_col0\" class=\"col_heading level0 col0\" >Train Accuracy</th>\n",
       "      <th id=\"T_ebffb_level0_col1\" class=\"col_heading level0 col1\" >Validation Accuracy</th>\n",
       "    </tr>\n",
       "  </thead>\n",
       "  <tbody>\n",
       "    <tr>\n",
       "      <th id=\"T_ebffb_level0_row0\" class=\"row_heading level0 row0\" >Logistic Regression</th>\n",
       "      <td id=\"T_ebffb_row0_col0\" class=\"data row0 col0\" >0.854749</td>\n",
       "      <td id=\"T_ebffb_row0_col1\" class=\"data row0 col1\" >0.866667</td>\n",
       "    </tr>\n",
       "    <tr>\n",
       "      <th id=\"T_ebffb_level0_row1\" class=\"row_heading level0 row1\" >KNN</th>\n",
       "      <td id=\"T_ebffb_row1_col0\" class=\"data row1 col0\" >0.787709</td>\n",
       "      <td id=\"T_ebffb_row1_col1\" class=\"data row1 col1\" >0.716667</td>\n",
       "    </tr>\n",
       "    <tr>\n",
       "      <th id=\"T_ebffb_level0_row2\" class=\"row_heading level0 row2\" >Decision Tree</th>\n",
       "      <td id=\"T_ebffb_row2_col0\" class=\"data row2 col0\" >0.854749</td>\n",
       "      <td id=\"T_ebffb_row2_col1\" class=\"data row2 col1\" >0.833333</td>\n",
       "    </tr>\n",
       "    <tr>\n",
       "      <th id=\"T_ebffb_level0_row3\" class=\"row_heading level0 row3\" >Random Forest</th>\n",
       "      <td id=\"T_ebffb_row3_col0\" class=\"data row3 col0\" >1.000000</td>\n",
       "      <td id=\"T_ebffb_row3_col1\" class=\"data row3 col1\" >0.883333</td>\n",
       "    </tr>\n",
       "    <tr>\n",
       "      <th id=\"T_ebffb_level0_row4\" class=\"row_heading level0 row4\" >SVC</th>\n",
       "      <td id=\"T_ebffb_row4_col0\" class=\"data row4 col0\" >0.910615</td>\n",
       "      <td id=\"T_ebffb_row4_col1\" class=\"data row4 col1\" >0.866667</td>\n",
       "    </tr>\n",
       "  </tbody>\n",
       "</table>\n"
      ],
      "text/plain": [
       "<pandas.io.formats.style.Styler at 0x1c0170ff460>"
      ]
     },
     "execution_count": 166,
     "metadata": {},
     "output_type": "execute_result"
    }
   ],
   "source": [
    "#모델별 accuracy 평가\n",
    "data_dic = {'Logistic Regression': [tr_acc_lr, val_acc_lr], 'KNN': [tr_acc_knn, val_acc_knn], 'Decision Tree': [tr_acc_dt, val_acc_dt], 'Random Forest': [tr_acc_rf, val_acc_rf], 'SVC': [tr_acc_svc, val_acc_svc]}\n",
    "df_acc = pd.DataFrame.from_dict(data_dic, orient = 'index', columns = ['Train Accuracy', 'Validation Accuracy'])\n",
    "df_acc.style.highlight_max(axis=0)"
   ]
  },
  {
   "cell_type": "markdown",
   "id": "c784eb7f",
   "metadata": {},
   "source": [
    "Train 및 Validation Accuracy는 Random Forest가 가장 높으므로, 최종 모델로 Random Forest를 선택함"
   ]
  },
  {
   "cell_type": "markdown",
   "id": "a2dea6f0",
   "metadata": {},
   "source": [
    "---"
   ]
  },
  {
   "cell_type": "markdown",
   "id": "8779c8f2",
   "metadata": {},
   "source": [
    "## Performance"
   ]
  },
  {
   "cell_type": "code",
   "execution_count": 167,
   "id": "c84703a7",
   "metadata": {},
   "outputs": [
    {
     "name": "stdout",
     "output_type": "stream",
     "text": [
      "Test Accuracy of Random Forest :  0.7666666666666667\n"
     ]
    }
   ],
   "source": [
    "#Test data에 대한 accuracy 평가\n",
    "te_pred_rf = model_rf.predict(X_te)\n",
    "te_acc_rf = accuracy_score(te_pred_rf, y_te)\n",
    "print('Test Accuracy of Random Forest : ', te_acc_rf)"
   ]
  },
  {
   "cell_type": "markdown",
   "id": "944bc82a",
   "metadata": {},
   "source": [
    "Random Forest-Feature Importance"
   ]
  },
  {
   "cell_type": "code",
   "execution_count": 169,
   "id": "06ea02bf",
   "metadata": {},
   "outputs": [
    {
     "data": {
      "image/png": "[encoded data removed]",
      "text/plain": [
       "<Figure size 600x1000 with 1 Axes>"
      ]
     },
     "metadata": {},
     "output_type": "display_data"
    }
   ],
   "source": [
    "X = data.iloc[:,:-1]\n",
    "y = data.iloc[:,-1]\n",
    "\n",
    "rf = RandomForestClassifier(n_estimators=400, max_depth=10,random_state=11)\n",
    "rf.fit(X,y)\n",
    "feat_imp = pd.DataFrame(rf.feature_importances_)\n",
    "feat_imp.index = pd.Series(data.iloc[:,:-1].columns)\n",
    "feat_imp = (feat_imp*100).copy().sort_values(by=0,ascending=False)\n",
    "feat_imp = feat_imp.reset_index()\n",
    "feat_imp.columns = [\"Feature\",\"Importance_score\"]\n",
    "\n",
    "fig = plt.figure(figsize=(6,10))\n",
    "sns.scatterplot(data=feat_imp,x=5,y=np.linspace(100,0,12),size=\"Importance_score\",sizes=(200,2000),legend=False)\n",
    "for i,feat,imp in zip(np.linspace(100,0,12),feat_imp[\"Feature\"],feat_imp[\"Importance_score\"]):\n",
    "    plt.text(x=5.05,y=i-1,s=feat)\n",
    "    plt.text(x=4.89,y=i-1,s=np.round(imp,2))\n",
    "plt.axis(\"off\")\n",
    "plt.title(\"Feature Importance\")\n",
    "plt.show()"
   ]
  },
  {
   "attachments": {},
   "cell_type": "markdown",
   "id": "afa2652e",
   "metadata": {},
   "source": [
    "The results explains\n",
    "\n",
    "* Train 및 Validation Accuracy에서 best 퍼포먼스를 내는 Random Forest를 최종 모델로 선정하였으나, 실제 Test 결과에서는 Accuracy가 0.77 정도로 엄청난 성능을 보여주지는 못했다.\n",
    "\n",
    "\n",
    "* 이는 데이터 분할의 영향일 수도 있다고 생각하고, 추후 연구로 변수와 상관계수가 높은 변수들만을 간추린 다음 모델을 학습시킨다면 더 robust한 모델이 될 것이라 생각한다.\n",
    "\n",
    "\n",
    "* 또한 여러 가지 모델 중 가장 성능이 좋았던 RF를 활용하여 Feature importance를 분석해 보았을 때, 변수는 time, serum_creatinine, ejection_fracion임을 알 수 있다.\n",
    "\n",
    "\n",
    "* 따라서 사후관리 기간이 길며, 혈중 혈청 나트륨 수치와 박출률이 높을수록 환자가 사후관리 기간 중 사망할 확률이 증가함을 결과로부터 도출해 낼 수 있다.\n",
    "\n",
    "\n",
    "* 본 프로젝트에서 다양한 모델에 대해 직접 학습하고, 또 여러 가지 결과를 도출해 보며 Training과 Validation에서는 좋은 성능을 보여도 Test set에서는 때때로 좋지 않은 성능을 보일 수 있다는 것을 실감했던 것 같다."
   ]
  },
  {
   "cell_type": "code",
   "execution_count": null,
   "id": "c848c14c",
   "metadata": {},
   "outputs": [],
   "source": []
  }
 ],
 "metadata": {
  "kernelspec": {
   "display_name": "Python 3 (ipykernel)",
   "language": "python",
   "name": "python3"
  },
  "language_info": {
   "codemirror_mode": {
    "name": "ipython",
    "version": 3
   },
   "file_extension": ".py",
   "mimetype": "text/x-python",
   "name": "python",
   "nbconvert_exporter": "python",
   "pygments_lexer": "ipython3",
   "version": "3.9.13"
  }
 },
 "nbformat": 4,
 "nbformat_minor": 5
}
